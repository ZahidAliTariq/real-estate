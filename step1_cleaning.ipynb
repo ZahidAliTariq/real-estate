{
 "cells": [
  {
   "cell_type": "code",
   "execution_count": 55,
   "metadata": {
    "colab": {},
    "colab_type": "code",
    "id": "2Q_o90-JkjUS"
   },
   "outputs": [],
   "source": [
    "# allow jupyter notebook to print all the interactive output \n",
    "from IPython.core.interactiveshell import InteractiveShell \n",
    "InteractiveShell.ast_node_interactivity = \"all\""
   ]
  },
  {
   "cell_type": "code",
   "execution_count": 56,
   "metadata": {
    "colab": {},
    "colab_type": "code",
    "id": "qBz0DahiTXuE"
   },
   "outputs": [],
   "source": [
    "import pandas as pd\n",
    "from ydata_profiling import ProfileReport\n",
    "import missingno as msno"
   ]
  },
  {
   "cell_type": "code",
   "execution_count": 57,
   "metadata": {
    "colab": {},
    "colab_type": "code",
    "id": "WIQo9tSFSpL9"
   },
   "outputs": [],
   "source": [
    "DATASET_URL = \"https://raw.githubusercontent.com/kaiyungtan/challenge-data-analysis/master/data/raw/dataset_house_apartment.csv\"\n",
    "POSTAL_CODE_URL = \"https://raw.githubusercontent.com/kaiyungtan/challenge-data-analysis/master/data/raw/code-postaux-belge.csv\"\n",
    "\n",
    "\n",
    "df = pd.read_csv(DATASET_URL, sep = ',')\n",
    "postal_codes = pd.read_csv(POSTAL_CODE_URL, sep = ';')"
   ]
  },
  {
   "cell_type": "code",
   "execution_count": 58,
   "metadata": {
    "colab": {
     "base_uri": "https://localhost:8080/",
     "height": 34
    },
    "colab_type": "code",
    "id": "vcg4SH_3hOOx",
    "outputId": "eb56f48a-6a37-451e-c51c-ce78bdbd66bb"
   },
   "outputs": [
    {
     "data": {
      "text/plain": [
       "(52077, 20)"
      ]
     },
     "execution_count": 58,
     "metadata": {},
     "output_type": "execute_result"
    },
    {
     "data": {
      "text/plain": [
       "(2757, 6)"
      ]
     },
     "execution_count": 58,
     "metadata": {},
     "output_type": "execute_result"
    }
   ],
   "source": [
    "df.shape\n",
    "postal_codes.shape"
   ]
  },
  {
   "cell_type": "code",
   "execution_count": 59,
   "metadata": {
    "colab": {},
    "colab_type": "code",
    "id": "3-vK4KQeY5v7"
   },
   "outputs": [],
   "source": [
    "# Drop empty columns\n",
    "\n",
    "postal_codes.drop(columns=['coordonnees', 'geom'], inplace=True)\n",
    "\n",
    "# Rename the columns\n",
    "\n",
    "postal_codes.rename(columns={\"column_1\": \"locality\", \"column_2\": \"city_name\", 'column_3': 'lattitude', 'column_4': 'longitude'}, inplace=True)\n",
    "\n",
    "# Drop the localities' duplicates\n",
    "\n",
    "postal_codes.drop_duplicates(subset=['locality'], inplace=True)"
   ]
  },
  {
   "cell_type": "code",
   "execution_count": 60,
   "metadata": {
    "colab": {
     "base_uri": "https://localhost:8080/",
     "height": 241
    },
    "colab_type": "code",
    "id": "88IOnKHnZiNm",
    "outputId": "721a25fe-82cc-49c2-a7e5-54dc144d32f0"
   },
   "outputs": [
    {
     "data": {
      "text/html": [
       "<div>\n",
       "<style scoped>\n",
       "    .dataframe tbody tr th:only-of-type {\n",
       "        vertical-align: middle;\n",
       "    }\n",
       "\n",
       "    .dataframe tbody tr th {\n",
       "        vertical-align: top;\n",
       "    }\n",
       "\n",
       "    .dataframe thead th {\n",
       "        text-align: right;\n",
       "    }\n",
       "</style>\n",
       "<table border=\"1\" class=\"dataframe\">\n",
       "  <thead>\n",
       "    <tr style=\"text-align: right;\">\n",
       "      <th></th>\n",
       "      <th>locality</th>\n",
       "      <th>type_of_property</th>\n",
       "      <th>subtype_of_property</th>\n",
       "      <th>price</th>\n",
       "      <th>type_of_sale</th>\n",
       "      <th>number_of_rooms</th>\n",
       "      <th>house_area</th>\n",
       "      <th>fully_equipped_kitchen</th>\n",
       "      <th>furnished</th>\n",
       "      <th>open_fire</th>\n",
       "      <th>...</th>\n",
       "      <th>garden_area</th>\n",
       "      <th>surface_of_the_land</th>\n",
       "      <th>surface_of_the_plot_of_land</th>\n",
       "      <th>number_of_facades</th>\n",
       "      <th>swimming_pool</th>\n",
       "      <th>state_of_the_building</th>\n",
       "      <th>construction_year</th>\n",
       "      <th>city_name</th>\n",
       "      <th>lattitude</th>\n",
       "      <th>longitude</th>\n",
       "    </tr>\n",
       "  </thead>\n",
       "  <tbody>\n",
       "    <tr>\n",
       "      <th>0</th>\n",
       "      <td>1050</td>\n",
       "      <td>house</td>\n",
       "      <td>house</td>\n",
       "      <td>340000</td>\n",
       "      <td>for sale</td>\n",
       "      <td>6.0</td>\n",
       "      <td>203.0</td>\n",
       "      <td>1</td>\n",
       "      <td>NaN</td>\n",
       "      <td>0</td>\n",
       "      <td>...</td>\n",
       "      <td>NaN</td>\n",
       "      <td>95.0</td>\n",
       "      <td>NaN</td>\n",
       "      <td>2.0</td>\n",
       "      <td>0</td>\n",
       "      <td>to be done up</td>\n",
       "      <td>1901.0</td>\n",
       "      <td>Ixelles</td>\n",
       "      <td>4.381571</td>\n",
       "      <td>50.822285</td>\n",
       "    </tr>\n",
       "    <tr>\n",
       "      <th>1</th>\n",
       "      <td>1880</td>\n",
       "      <td>house</td>\n",
       "      <td>villa</td>\n",
       "      <td>525000</td>\n",
       "      <td>for sale</td>\n",
       "      <td>6.0</td>\n",
       "      <td>250.0</td>\n",
       "      <td>1</td>\n",
       "      <td>NaN</td>\n",
       "      <td>0</td>\n",
       "      <td>...</td>\n",
       "      <td>430.0</td>\n",
       "      <td>826.0</td>\n",
       "      <td>NaN</td>\n",
       "      <td>4.0</td>\n",
       "      <td>0</td>\n",
       "      <td>as new</td>\n",
       "      <td>1992.0</td>\n",
       "      <td>Nieuwenrode</td>\n",
       "      <td>4.351229</td>\n",
       "      <td>50.979984</td>\n",
       "    </tr>\n",
       "    <tr>\n",
       "      <th>2</th>\n",
       "      <td>4900</td>\n",
       "      <td>house</td>\n",
       "      <td>exceptional property</td>\n",
       "      <td>550000</td>\n",
       "      <td>for sale</td>\n",
       "      <td>11.0</td>\n",
       "      <td>475.0</td>\n",
       "      <td>1</td>\n",
       "      <td>NaN</td>\n",
       "      <td>0</td>\n",
       "      <td>...</td>\n",
       "      <td>1400.0</td>\n",
       "      <td>1543.0</td>\n",
       "      <td>NaN</td>\n",
       "      <td>4.0</td>\n",
       "      <td>0</td>\n",
       "      <td>good</td>\n",
       "      <td>1853.0</td>\n",
       "      <td>Spa</td>\n",
       "      <td>5.862623</td>\n",
       "      <td>50.492084</td>\n",
       "    </tr>\n",
       "    <tr>\n",
       "      <th>3</th>\n",
       "      <td>7912</td>\n",
       "      <td>house</td>\n",
       "      <td>villa</td>\n",
       "      <td>550000</td>\n",
       "      <td>for sale</td>\n",
       "      <td>4.0</td>\n",
       "      <td>325.0</td>\n",
       "      <td>1</td>\n",
       "      <td>NaN</td>\n",
       "      <td>0</td>\n",
       "      <td>...</td>\n",
       "      <td>2333.0</td>\n",
       "      <td>3570.0</td>\n",
       "      <td>NaN</td>\n",
       "      <td>4.0</td>\n",
       "      <td>0</td>\n",
       "      <td>good</td>\n",
       "      <td>1918.0</td>\n",
       "      <td>Saint-Sauveur</td>\n",
       "      <td>3.597746</td>\n",
       "      <td>50.706180</td>\n",
       "    </tr>\n",
       "    <tr>\n",
       "      <th>4</th>\n",
       "      <td>6032</td>\n",
       "      <td>house</td>\n",
       "      <td>house</td>\n",
       "      <td>550000</td>\n",
       "      <td>for sale</td>\n",
       "      <td>5.0</td>\n",
       "      <td>400.0</td>\n",
       "      <td>1</td>\n",
       "      <td>NaN</td>\n",
       "      <td>0</td>\n",
       "      <td>...</td>\n",
       "      <td>500.0</td>\n",
       "      <td>616.0</td>\n",
       "      <td>NaN</td>\n",
       "      <td>3.0</td>\n",
       "      <td>0</td>\n",
       "      <td>as new</td>\n",
       "      <td>1977.0</td>\n",
       "      <td>Mont-Sur-Marchienne</td>\n",
       "      <td>4.404636</td>\n",
       "      <td>50.390205</td>\n",
       "    </tr>\n",
       "  </tbody>\n",
       "</table>\n",
       "<p>5 rows × 23 columns</p>\n",
       "</div>"
      ],
      "text/plain": [
       "   locality type_of_property   subtype_of_property   price type_of_sale  \\\n",
       "0      1050            house                 house  340000     for sale   \n",
       "1      1880            house                 villa  525000     for sale   \n",
       "2      4900            house  exceptional property  550000     for sale   \n",
       "3      7912            house                 villa  550000     for sale   \n",
       "4      6032            house                 house  550000     for sale   \n",
       "\n",
       "   number_of_rooms  house_area  fully_equipped_kitchen  furnished  open_fire  \\\n",
       "0              6.0       203.0                       1        NaN          0   \n",
       "1              6.0       250.0                       1        NaN          0   \n",
       "2             11.0       475.0                       1        NaN          0   \n",
       "3              4.0       325.0                       1        NaN          0   \n",
       "4              5.0       400.0                       1        NaN          0   \n",
       "\n",
       "   ...  garden_area  surface_of_the_land  surface_of_the_plot_of_land  \\\n",
       "0  ...          NaN                 95.0                          NaN   \n",
       "1  ...        430.0                826.0                          NaN   \n",
       "2  ...       1400.0               1543.0                          NaN   \n",
       "3  ...       2333.0               3570.0                          NaN   \n",
       "4  ...        500.0                616.0                          NaN   \n",
       "\n",
       "   number_of_facades  swimming_pool  state_of_the_building  construction_year  \\\n",
       "0                2.0              0          to be done up             1901.0   \n",
       "1                4.0              0                 as new             1992.0   \n",
       "2                4.0              0                   good             1853.0   \n",
       "3                4.0              0                   good             1918.0   \n",
       "4                3.0              0                 as new             1977.0   \n",
       "\n",
       "             city_name lattitude  longitude  \n",
       "0              Ixelles  4.381571  50.822285  \n",
       "1          Nieuwenrode  4.351229  50.979984  \n",
       "2                  Spa  5.862623  50.492084  \n",
       "3        Saint-Sauveur  3.597746  50.706180  \n",
       "4  Mont-Sur-Marchienne  4.404636  50.390205  \n",
       "\n",
       "[5 rows x 23 columns]"
      ]
     },
     "execution_count": 60,
     "metadata": {},
     "output_type": "execute_result"
    }
   ],
   "source": [
    "# Merge solution 1:\n",
    "\n",
    "df = pd.merge(df, postal_codes, on=['locality'], how='inner')\n",
    "\n",
    "# Merge solution 2:\n",
    "# df.merge(postal_codes, on=['locality'], how='inner', copy=True)\n",
    "\n",
    "# Merge solution 3 (Merge only one column and add it to the dataframe)\n",
    "# df['city_name'] = df['locality'].map(postal_codes.set_index('locality')['city_name'])\n",
    "\n",
    "df.head(5)"
   ]
  },
  {
   "cell_type": "code",
   "execution_count": 61,
   "metadata": {
    "colab": {
     "base_uri": "https://localhost:8080/",
     "height": 34
    },
    "colab_type": "code",
    "id": "mwejaMV7YpIj",
    "outputId": "515c9e26-ef19-409f-9504-ed748558feb8"
   },
   "outputs": [
    {
     "data": {
      "text/plain": [
       "dtype('O')"
      ]
     },
     "execution_count": 61,
     "metadata": {},
     "output_type": "execute_result"
    }
   ],
   "source": [
    "df.price.dtypes"
   ]
  },
  {
   "cell_type": "code",
   "execution_count": 62,
   "metadata": {
    "colab": {
     "base_uri": "https://localhost:8080/",
     "height": 425
    },
    "colab_type": "code",
    "id": "0j1i05hIYueP",
    "outputId": "f391abc8-15e8-4e4f-f138-ee8f0d9e575f"
   },
   "outputs": [
    {
     "data": {
      "text/plain": [
       "locality                         int64\n",
       "type_of_property                object\n",
       "subtype_of_property             object\n",
       "price                           object\n",
       "type_of_sale                    object\n",
       "number_of_rooms                float64\n",
       "house_area                     float64\n",
       "fully_equipped_kitchen           int64\n",
       "furnished                      float64\n",
       "open_fire                        int64\n",
       "terrace                          int64\n",
       "terrace_area                   float64\n",
       "garden                           int64\n",
       "garden_area                    float64\n",
       "surface_of_the_land            float64\n",
       "surface_of_the_plot_of_land    float64\n",
       "number_of_facades              float64\n",
       "swimming_pool                    int64\n",
       "state_of_the_building           object\n",
       "construction_year              float64\n",
       "city_name                       object\n",
       "lattitude                      float64\n",
       "longitude                      float64\n",
       "dtype: object"
      ]
     },
     "execution_count": 62,
     "metadata": {},
     "output_type": "execute_result"
    }
   ],
   "source": [
    "df.dtypes"
   ]
  },
  {
   "cell_type": "code",
   "execution_count": 63,
   "metadata": {
    "colab": {},
    "colab_type": "code",
    "id": "5CDvXcyGax4D"
   },
   "outputs": [],
   "source": [
    "# Drop the duplicated rows\n",
    "\n",
    "df.drop_duplicates(inplace=True)"
   ]
  },
  {
   "cell_type": "code",
   "execution_count": 64,
   "metadata": {
    "colab": {},
    "colab_type": "code",
    "id": "AGunaw8TG5VV"
   },
   "outputs": [],
   "source": [
    "# rename columns name 'locality' to 'postal_code'\n",
    "\n",
    "df.rename(columns={'locality' :'postal_code'},inplace=True)\n"
   ]
  },
  {
   "cell_type": "code",
   "execution_count": 65,
   "metadata": {
    "colab": {},
    "colab_type": "code",
    "id": "UBycltRm_OTb"
   },
   "outputs": [],
   "source": [
    "# Move column: 'city_name' next to 'postal_code'\n",
    "\n",
    "second_col = df.pop(\"city_name\")\n",
    "df.insert(1, \"city_name\", second_col)\n"
   ]
  },
  {
   "cell_type": "code",
   "execution_count": 66,
   "metadata": {
    "colab": {
     "base_uri": "https://localhost:8080/",
     "height": 210
    },
    "colab_type": "code",
    "id": "m0JcEjwOBM0F",
    "outputId": "407afcfc-5138-4b87-e3c1-692074d12bf3"
   },
   "outputs": [
    {
     "data": {
      "text/html": [
       "<div>\n",
       "<style scoped>\n",
       "    .dataframe tbody tr th:only-of-type {\n",
       "        vertical-align: middle;\n",
       "    }\n",
       "\n",
       "    .dataframe tbody tr th {\n",
       "        vertical-align: top;\n",
       "    }\n",
       "\n",
       "    .dataframe thead th {\n",
       "        text-align: right;\n",
       "    }\n",
       "</style>\n",
       "<table border=\"1\" class=\"dataframe\">\n",
       "  <thead>\n",
       "    <tr style=\"text-align: right;\">\n",
       "      <th></th>\n",
       "      <th>city_name</th>\n",
       "      <th>type_of_property</th>\n",
       "      <th>subtype_of_property</th>\n",
       "      <th>price</th>\n",
       "      <th>type_of_sale</th>\n",
       "      <th>state_of_the_building</th>\n",
       "    </tr>\n",
       "  </thead>\n",
       "  <tbody>\n",
       "    <tr>\n",
       "      <th>count</th>\n",
       "      <td>50841</td>\n",
       "      <td>50841</td>\n",
       "      <td>50841</td>\n",
       "      <td>50841</td>\n",
       "      <td>50841</td>\n",
       "      <td>37670</td>\n",
       "    </tr>\n",
       "    <tr>\n",
       "      <th>unique</th>\n",
       "      <td>1070</td>\n",
       "      <td>2</td>\n",
       "      <td>24</td>\n",
       "      <td>4220</td>\n",
       "      <td>1</td>\n",
       "      <td>6</td>\n",
       "    </tr>\n",
       "    <tr>\n",
       "      <th>top</th>\n",
       "      <td>Antwerpen</td>\n",
       "      <td>house</td>\n",
       "      <td>house</td>\n",
       "      <td>249000</td>\n",
       "      <td>for sale</td>\n",
       "      <td>as new</td>\n",
       "    </tr>\n",
       "    <tr>\n",
       "      <th>freq</th>\n",
       "      <td>1028</td>\n",
       "      <td>29001</td>\n",
       "      <td>21809</td>\n",
       "      <td>674</td>\n",
       "      <td>50841</td>\n",
       "      <td>14358</td>\n",
       "    </tr>\n",
       "  </tbody>\n",
       "</table>\n",
       "</div>"
      ],
      "text/plain": [
       "        city_name type_of_property subtype_of_property   price type_of_sale  \\\n",
       "count       50841            50841               50841   50841        50841   \n",
       "unique       1070                2                  24    4220            1   \n",
       "top     Antwerpen            house               house  249000     for sale   \n",
       "freq         1028            29001               21809     674        50841   \n",
       "\n",
       "       state_of_the_building  \n",
       "count                  37670  \n",
       "unique                     6  \n",
       "top                   as new  \n",
       "freq                   14358  "
      ]
     },
     "execution_count": 66,
     "metadata": {},
     "output_type": "execute_result"
    },
    {
     "data": {
      "text/plain": [
       "(50841, 20)"
      ]
     },
     "execution_count": 66,
     "metadata": {},
     "output_type": "execute_result"
    }
   ],
   "source": [
    "# Drop columns with only 1 unique value\n",
    "\n",
    "df.describe(include='object') \n",
    "df.drop(columns=['type_of_sale','furnished','surface_of_the_plot_of_land'],inplace=True)\n",
    "df.shape"
   ]
  },
  {
   "cell_type": "code",
   "execution_count": 67,
   "metadata": {
    "colab": {
     "base_uri": "https://localhost:8080/",
     "height": 374
    },
    "colab_type": "code",
    "id": "xvKQ2-O2Caw1",
    "outputId": "dfccc4b3-e7cd-49ed-cefd-2a0d67c7961f"
   },
   "outputs": [
    {
     "data": {
      "text/plain": [
       "postal_code                   0\n",
       "city_name                     0\n",
       "type_of_property              0\n",
       "subtype_of_property           0\n",
       "price                         0\n",
       "number_of_rooms               2\n",
       "house_area                 8430\n",
       "fully_equipped_kitchen        0\n",
       "open_fire                     0\n",
       "terrace                       0\n",
       "terrace_area              33745\n",
       "garden                        0\n",
       "garden_area               42491\n",
       "surface_of_the_land       21840\n",
       "number_of_facades         13106\n",
       "swimming_pool                 0\n",
       "state_of_the_building     13171\n",
       "construction_year         20958\n",
       "lattitude                     0\n",
       "longitude                     0\n",
       "dtype: int64"
      ]
     },
     "execution_count": 67,
     "metadata": {},
     "output_type": "execute_result"
    }
   ],
   "source": [
    "df.isna().sum()"
   ]
  },
  {
   "cell_type": "code",
   "execution_count": 68,
   "metadata": {
    "colab": {},
    "colab_type": "code",
    "id": "uZEZ678wCfcj"
   },
   "outputs": [],
   "source": [
    "# fill missing value as \"None\" for columns: surface_of_the_land\n",
    "\n",
    "df.surface_of_the_land = df.surface_of_the_land.fillna('None')"
   ]
  },
  {
   "cell_type": "code",
   "execution_count": 69,
   "metadata": {
    "colab": {
     "base_uri": "https://localhost:8080/",
     "height": 374
    },
    "colab_type": "code",
    "id": "qzKu9jgEEkTA",
    "outputId": "edacfe06-cada-4c80-c167-1f13dd5a7517"
   },
   "outputs": [
    {
     "data": {
      "text/plain": [
       "postal_code                   0\n",
       "city_name                     0\n",
       "type_of_property              0\n",
       "subtype_of_property           0\n",
       "price                         0\n",
       "number_of_rooms               2\n",
       "house_area                 8430\n",
       "fully_equipped_kitchen        0\n",
       "open_fire                     0\n",
       "terrace                       0\n",
       "terrace_area              33745\n",
       "garden                        0\n",
       "garden_area               42491\n",
       "surface_of_the_land           0\n",
       "number_of_facades         13106\n",
       "swimming_pool                 0\n",
       "state_of_the_building     13171\n",
       "construction_year         20958\n",
       "lattitude                     0\n",
       "longitude                     0\n",
       "dtype: int64"
      ]
     },
     "execution_count": 69,
     "metadata": {},
     "output_type": "execute_result"
    }
   ],
   "source": [
    "df.isna().sum()"
   ]
  },
  {
   "cell_type": "code",
   "execution_count": 70,
   "metadata": {
    "colab": {},
    "colab_type": "code",
    "id": "_Sx9mbsfEmIU"
   },
   "outputs": [],
   "source": [
    "# drop 2 rows of missing value for columns: number_of_rooms)\n",
    "\n",
    "df.dropna(inplace=True)"
   ]
  },
  {
   "cell_type": "code",
   "execution_count": 71,
   "metadata": {
    "colab": {
     "base_uri": "https://localhost:8080/",
     "height": 374
    },
    "colab_type": "code",
    "id": "ApRI8U39EqaW",
    "outputId": "9c32dd8f-d80d-4d66-91dc-e9c3b2ba827f"
   },
   "outputs": [
    {
     "data": {
      "text/plain": [
       "postal_code               0\n",
       "city_name                 0\n",
       "type_of_property          0\n",
       "subtype_of_property       0\n",
       "price                     0\n",
       "number_of_rooms           0\n",
       "house_area                0\n",
       "fully_equipped_kitchen    0\n",
       "open_fire                 0\n",
       "terrace                   0\n",
       "terrace_area              0\n",
       "garden                    0\n",
       "garden_area               0\n",
       "surface_of_the_land       0\n",
       "number_of_facades         0\n",
       "swimming_pool             0\n",
       "state_of_the_building     0\n",
       "construction_year         0\n",
       "lattitude                 0\n",
       "longitude                 0\n",
       "dtype: int64"
      ]
     },
     "execution_count": 71,
     "metadata": {},
     "output_type": "execute_result"
    }
   ],
   "source": [
    "df.isna().sum()"
   ]
  },
  {
   "cell_type": "code",
   "execution_count": 72,
   "metadata": {
    "colab": {},
    "colab_type": "code",
    "id": "9Bn8LaU5kCQj"
   },
   "outputs": [],
   "source": [
    "# Function to clean unique and dtype of a given column.\n",
    "\n",
    "def print_unique_dtype(column):\n",
    "  \"\"\"Print unique and dtype of a given column\"\"\"\n",
    "  \n",
    "  unique = df[column].value_counts().nunique()\n",
    "  dtype = df[column].dtype\n",
    "  print(f\"{unique} - {dtype}\")"
   ]
  },
  {
   "cell_type": "code",
   "execution_count": 73,
   "metadata": {
    "colab": {},
    "colab_type": "code",
    "id": "9Bn8LaU5kCQj"
   },
   "outputs": [
    {
     "name": "stdout",
     "output_type": "stream",
     "text": [
      "22 - int64\n"
     ]
    }
   ],
   "source": [
    "# Postal Code is used earlier to aggregate the city name and regions,\n",
    "# so we know it's already clean.\n",
    "\n",
    "print_unique_dtype('postal_code')"
   ]
  },
  {
   "cell_type": "code",
   "execution_count": 74,
   "metadata": {
    "colab": {
     "base_uri": "https://localhost:8080/",
     "height": 34
    },
    "colab_type": "code",
    "id": "CSzkLweGRAFR",
    "outputId": "4a3aafb9-3f3f-4f60-f221-f1a1c04972b7"
   },
   "outputs": [
    {
     "name": "stdout",
     "output_type": "stream",
     "text": [
      "22 - object\n"
     ]
    }
   ],
   "source": [
    "# City name is an \"object\", it come from the aggregated city name,\n",
    "# so we know it's already clean -> Str.\n",
    "\n",
    "print_unique_dtype('city_name')"
   ]
  },
  {
   "cell_type": "code",
   "execution_count": 75,
   "metadata": {
    "colab": {
     "base_uri": "https://localhost:8080/",
     "height": 85
    },
    "colab_type": "code",
    "id": "1YgFHWOZROf-",
    "outputId": "7cf51a21-85ae-4571-889a-293175a321b5"
   },
   "outputs": [
    {
     "name": "stdout",
     "output_type": "stream",
     "text": [
      "2 - object\n"
     ]
    },
    {
     "data": {
      "text/plain": [
       "type_of_property\n",
       "house        1843\n",
       "apartment     350\n",
       "Name: count, dtype: int64"
      ]
     },
     "execution_count": 75,
     "metadata": {},
     "output_type": "execute_result"
    }
   ],
   "source": [
    "# Type of property is currently a string:\n",
    "# either 'house' or 'apartment'\n",
    "\n",
    "print_unique_dtype('type_of_property')\n",
    "df['type_of_property'].value_counts()"
   ]
  },
  {
   "cell_type": "code",
   "execution_count": 76,
   "metadata": {
    "colab": {
     "base_uri": "https://localhost:8080/",
     "height": 241
    },
    "colab_type": "code",
    "id": "GlRqFLeiVFns",
    "outputId": "4c356cec-5857-4f47-9083-3e9fc699efc3"
   },
   "outputs": [
    {
     "name": "stderr",
     "output_type": "stream",
     "text": [
      "C:\\Users\\zahid\\AppData\\Local\\Temp\\ipykernel_4712\\105429425.py:3: FutureWarning: Downcasting behavior in `replace` is deprecated and will be removed in a future version. To retain the old behavior, explicitly call `result.infer_objects(copy=False)`. To opt-in to the future behavior, set `pd.set_option('future.no_silent_downcasting', True)`\n",
      "  df['type_of_property'] = df['type_of_property'].replace({\"house\":0 ,\"apartment\":1})\n"
     ]
    },
    {
     "data": {
      "text/html": [
       "<div>\n",
       "<style scoped>\n",
       "    .dataframe tbody tr th:only-of-type {\n",
       "        vertical-align: middle;\n",
       "    }\n",
       "\n",
       "    .dataframe tbody tr th {\n",
       "        vertical-align: top;\n",
       "    }\n",
       "\n",
       "    .dataframe thead th {\n",
       "        text-align: right;\n",
       "    }\n",
       "</style>\n",
       "<table border=\"1\" class=\"dataframe\">\n",
       "  <thead>\n",
       "    <tr style=\"text-align: right;\">\n",
       "      <th></th>\n",
       "      <th>postal_code</th>\n",
       "      <th>city_name</th>\n",
       "      <th>type_of_property</th>\n",
       "      <th>subtype_of_property</th>\n",
       "      <th>price</th>\n",
       "      <th>number_of_rooms</th>\n",
       "      <th>house_area</th>\n",
       "      <th>fully_equipped_kitchen</th>\n",
       "      <th>open_fire</th>\n",
       "      <th>terrace</th>\n",
       "      <th>terrace_area</th>\n",
       "      <th>garden</th>\n",
       "      <th>garden_area</th>\n",
       "      <th>surface_of_the_land</th>\n",
       "      <th>number_of_facades</th>\n",
       "      <th>swimming_pool</th>\n",
       "      <th>state_of_the_building</th>\n",
       "      <th>construction_year</th>\n",
       "      <th>lattitude</th>\n",
       "      <th>longitude</th>\n",
       "    </tr>\n",
       "  </thead>\n",
       "  <tbody>\n",
       "    <tr>\n",
       "      <th>1</th>\n",
       "      <td>1880</td>\n",
       "      <td>Nieuwenrode</td>\n",
       "      <td>0</td>\n",
       "      <td>villa</td>\n",
       "      <td>525000</td>\n",
       "      <td>6.0</td>\n",
       "      <td>250.0</td>\n",
       "      <td>1</td>\n",
       "      <td>0</td>\n",
       "      <td>1</td>\n",
       "      <td>40.0</td>\n",
       "      <td>1</td>\n",
       "      <td>430.0</td>\n",
       "      <td>826.0</td>\n",
       "      <td>4.0</td>\n",
       "      <td>0</td>\n",
       "      <td>as new</td>\n",
       "      <td>1992.0</td>\n",
       "      <td>4.351229</td>\n",
       "      <td>50.979984</td>\n",
       "    </tr>\n",
       "    <tr>\n",
       "      <th>3</th>\n",
       "      <td>7912</td>\n",
       "      <td>Saint-Sauveur</td>\n",
       "      <td>0</td>\n",
       "      <td>villa</td>\n",
       "      <td>550000</td>\n",
       "      <td>4.0</td>\n",
       "      <td>325.0</td>\n",
       "      <td>1</td>\n",
       "      <td>0</td>\n",
       "      <td>1</td>\n",
       "      <td>125.0</td>\n",
       "      <td>1</td>\n",
       "      <td>2333.0</td>\n",
       "      <td>3570.0</td>\n",
       "      <td>4.0</td>\n",
       "      <td>0</td>\n",
       "      <td>good</td>\n",
       "      <td>1918.0</td>\n",
       "      <td>3.597746</td>\n",
       "      <td>50.706180</td>\n",
       "    </tr>\n",
       "    <tr>\n",
       "      <th>4</th>\n",
       "      <td>6032</td>\n",
       "      <td>Mont-Sur-Marchienne</td>\n",
       "      <td>0</td>\n",
       "      <td>house</td>\n",
       "      <td>550000</td>\n",
       "      <td>5.0</td>\n",
       "      <td>400.0</td>\n",
       "      <td>1</td>\n",
       "      <td>0</td>\n",
       "      <td>1</td>\n",
       "      <td>80.0</td>\n",
       "      <td>1</td>\n",
       "      <td>500.0</td>\n",
       "      <td>616.0</td>\n",
       "      <td>3.0</td>\n",
       "      <td>0</td>\n",
       "      <td>as new</td>\n",
       "      <td>1977.0</td>\n",
       "      <td>4.404636</td>\n",
       "      <td>50.390205</td>\n",
       "    </tr>\n",
       "    <tr>\n",
       "      <th>6</th>\n",
       "      <td>1325</td>\n",
       "      <td>Bonlez</td>\n",
       "      <td>0</td>\n",
       "      <td>house</td>\n",
       "      <td>535000</td>\n",
       "      <td>6.0</td>\n",
       "      <td>303.0</td>\n",
       "      <td>1</td>\n",
       "      <td>0</td>\n",
       "      <td>1</td>\n",
       "      <td>30.0</td>\n",
       "      <td>1</td>\n",
       "      <td>650.0</td>\n",
       "      <td>810.0</td>\n",
       "      <td>4.0</td>\n",
       "      <td>0</td>\n",
       "      <td>as new</td>\n",
       "      <td>1996.0</td>\n",
       "      <td>4.689615</td>\n",
       "      <td>50.702137</td>\n",
       "    </tr>\n",
       "    <tr>\n",
       "      <th>10</th>\n",
       "      <td>8380</td>\n",
       "      <td>Lissewege</td>\n",
       "      <td>0</td>\n",
       "      <td>house</td>\n",
       "      <td>545000</td>\n",
       "      <td>5.0</td>\n",
       "      <td>176.0</td>\n",
       "      <td>1</td>\n",
       "      <td>0</td>\n",
       "      <td>1</td>\n",
       "      <td>30.0</td>\n",
       "      <td>1</td>\n",
       "      <td>415.0</td>\n",
       "      <td>712.0</td>\n",
       "      <td>3.0</td>\n",
       "      <td>0</td>\n",
       "      <td>good</td>\n",
       "      <td>1999.0</td>\n",
       "      <td>3.199182</td>\n",
       "      <td>51.317114</td>\n",
       "    </tr>\n",
       "  </tbody>\n",
       "</table>\n",
       "</div>"
      ],
      "text/plain": [
       "    postal_code            city_name  type_of_property subtype_of_property  \\\n",
       "1          1880          Nieuwenrode                 0               villa   \n",
       "3          7912        Saint-Sauveur                 0               villa   \n",
       "4          6032  Mont-Sur-Marchienne                 0               house   \n",
       "6          1325               Bonlez                 0               house   \n",
       "10         8380            Lissewege                 0               house   \n",
       "\n",
       "     price  number_of_rooms  house_area  fully_equipped_kitchen  open_fire  \\\n",
       "1   525000              6.0       250.0                       1          0   \n",
       "3   550000              4.0       325.0                       1          0   \n",
       "4   550000              5.0       400.0                       1          0   \n",
       "6   535000              6.0       303.0                       1          0   \n",
       "10  545000              5.0       176.0                       1          0   \n",
       "\n",
       "    terrace  terrace_area  garden  garden_area surface_of_the_land  \\\n",
       "1         1          40.0       1        430.0               826.0   \n",
       "3         1         125.0       1       2333.0              3570.0   \n",
       "4         1          80.0       1        500.0               616.0   \n",
       "6         1          30.0       1        650.0               810.0   \n",
       "10        1          30.0       1        415.0               712.0   \n",
       "\n",
       "    number_of_facades  swimming_pool state_of_the_building  construction_year  \\\n",
       "1                 4.0              0                as new             1992.0   \n",
       "3                 4.0              0                  good             1918.0   \n",
       "4                 3.0              0                as new             1977.0   \n",
       "6                 4.0              0                as new             1996.0   \n",
       "10                3.0              0                  good             1999.0   \n",
       "\n",
       "    lattitude  longitude  \n",
       "1    4.351229  50.979984  \n",
       "3    3.597746  50.706180  \n",
       "4    4.404636  50.390205  \n",
       "6    4.689615  50.702137  \n",
       "10   3.199182  51.317114  "
      ]
     },
     "execution_count": 76,
     "metadata": {},
     "output_type": "execute_result"
    }
   ],
   "source": [
    "# Change house to 0, and apartment to 1\n",
    "\n",
    "df['type_of_property'] = df['type_of_property'].replace({\"house\":0 ,\"apartment\":1})\n",
    "df.head()"
   ]
  },
  {
   "cell_type": "code",
   "execution_count": 77,
   "metadata": {
    "colab": {
     "base_uri": "https://localhost:8080/",
     "height": 459
    },
    "colab_type": "code",
    "id": "4DH2doXaRS1M",
    "outputId": "a7463ec8-db28-466d-852d-efaf7be08db5"
   },
   "outputs": [
    {
     "name": "stdout",
     "output_type": "stream",
     "text": [
      "18 - object\n"
     ]
    },
    {
     "data": {
      "text/plain": [
       "subtype_of_property\n",
       "house                   1212\n",
       "villa                    316\n",
       "apartment                217\n",
       "ground floor              83\n",
       "town house                67\n",
       "exceptional property      60\n",
       "mansion                   55\n",
       "mixed use building        36\n",
       "apartment block           33\n",
       "duplex                    30\n",
       "bungalow                  26\n",
       "country cottage           16\n",
       "chalet                     9\n",
       "loft                       6\n",
       "manor house                6\n",
       "penthouse                  5\n",
       "triplex                    4\n",
       "flat studio                4\n",
       "farmhouse                  4\n",
       "other property             2\n",
       "service flat               1\n",
       "pavilion                   1\n",
       "Name: count, dtype: int64"
      ]
     },
     "execution_count": 77,
     "metadata": {},
     "output_type": "execute_result"
    }
   ],
   "source": [
    "# Subtype of property is related to the property's type.\n",
    "# We'll drop \"castle\" and \"pavillon\"\n",
    "\n",
    "print_unique_dtype('subtype_of_property')\n",
    "df.subtype_of_property.value_counts()"
   ]
  },
  {
   "cell_type": "code",
   "execution_count": 78,
   "metadata": {
    "colab": {
     "base_uri": "https://localhost:8080/",
     "height": 51
    },
    "colab_type": "code",
    "id": "_lix_lSCSy7b",
    "outputId": "a0d7f00f-9d8e-4a52-bf54-55c94d754c90"
   },
   "outputs": [
    {
     "name": "stdout",
     "output_type": "stream",
     "text": [
      "17 - object\n"
     ]
    },
    {
     "data": {
      "text/plain": [
       "(2159, 20)"
      ]
     },
     "execution_count": 78,
     "metadata": {},
     "output_type": "execute_result"
    }
   ],
   "source": [
    "# Drop castle & pavilion & apartment block.\n",
    "\n",
    "df = df[(df['subtype_of_property'] != 'castle') & (df['subtype_of_property'] != 'pavilion') & (df['subtype_of_property'] != 'apartment block')]\n",
    "print_unique_dtype('subtype_of_property')\n",
    "df.shape"
   ]
  },
  {
   "cell_type": "code",
   "execution_count": 79,
   "metadata": {
    "colab": {
     "base_uri": "https://localhost:8080/",
     "height": 51
    },
    "colab_type": "code",
    "id": "_lix_lSCSy7b",
    "outputId": "a0d7f00f-9d8e-4a52-bf54-55c94d754c90"
   },
   "outputs": [],
   "source": [
    "# Drop the columns\n",
    "\n",
    "df.drop(columns=['subtype_of_property'],inplace=True)"
   ]
  },
  {
   "cell_type": "code",
   "execution_count": 80,
   "metadata": {
    "colab": {},
    "colab_type": "code",
    "id": "_wezPQhhYBSc"
   },
   "outputs": [
    {
     "data": {
      "text/plain": [
       "(2156, 19)"
      ]
     },
     "execution_count": 80,
     "metadata": {},
     "output_type": "execute_result"
    },
    {
     "data": {
      "text/plain": [
       "dtype('int64')"
      ]
     },
     "execution_count": 80,
     "metadata": {},
     "output_type": "execute_result"
    }
   ],
   "source": [
    "# Remove the \"no price\" string from price column.\n",
    "\n",
    "df['price'] = df[df.price != \"no price\"]['price']\n",
    "df.dropna(inplace=True)\n",
    "\n",
    "# Convert the price to int\n",
    "\n",
    "df['price'] = df['price'].astype(int)\n",
    "df.shape\n",
    "df['price'].dtype"
   ]
  },
  {
   "cell_type": "code",
   "execution_count": 81,
   "metadata": {
    "colab": {
     "base_uri": "https://localhost:8080/",
     "height": 34
    },
    "colab_type": "code",
    "id": "od28NHi3RaD1",
    "outputId": "a6d95b25-5c3e-4a21-a97d-dc0352328f33"
   },
   "outputs": [
    {
     "data": {
      "text/plain": [
       "number_of_rooms\n",
       "3.0     787\n",
       "4.0     582\n",
       "2.0     359\n",
       "5.0     211\n",
       "1.0      91\n",
       "6.0      85\n",
       "7.0      25\n",
       "8.0       7\n",
       "9.0       3\n",
       "0.0       2\n",
       "11.0      2\n",
       "13.0      1\n",
       "10.0      1\n",
       "Name: count, dtype: int64"
      ]
     },
     "execution_count": 81,
     "metadata": {},
     "output_type": "execute_result"
    }
   ],
   "source": [
    "# 204 and 165 are too many rooms to be real.\n",
    "# We remove it.\n",
    "\n",
    "df.number_of_rooms.value_counts()"
   ]
  },
  {
   "cell_type": "code",
   "execution_count": 82,
   "metadata": {
    "colab": {
     "base_uri": "https://localhost:8080/",
     "height": 357
    },
    "colab_type": "code",
    "id": "hqvKdpenUqQO",
    "outputId": "a4aa16ce-dcf9-4148-f8f1-473fab422bca"
   },
   "outputs": [
    {
     "data": {
      "text/plain": [
       "number_of_rooms\n",
       "3     787\n",
       "4     582\n",
       "2     359\n",
       "5     211\n",
       "1      91\n",
       "6      85\n",
       "7      25\n",
       "8       7\n",
       "9       3\n",
       "11      2\n",
       "13      1\n",
       "10      1\n",
       "Name: count, dtype: int64"
      ]
     },
     "execution_count": 82,
     "metadata": {},
     "output_type": "execute_result"
    },
    {
     "data": {
      "text/plain": [
       "(2154, 19)"
      ]
     },
     "execution_count": 82,
     "metadata": {},
     "output_type": "execute_result"
    }
   ],
   "source": [
    "# Remove number_of_rooms >= 165\n",
    "\n",
    "df = df[(df['number_of_rooms'] < 20) & (df['number_of_rooms'] > 0)]\n",
    "\n",
    "# Convert to int\n",
    "\n",
    "df['number_of_rooms'] = df['number_of_rooms'].astype(int)\n",
    "df['number_of_rooms'].value_counts()\n",
    "df.shape"
   ]
  },
  {
   "cell_type": "code",
   "execution_count": 83,
   "metadata": {
    "colab": {
     "base_uri": "https://localhost:8080/",
     "height": 221
    },
    "colab_type": "code",
    "id": "9HaS45XpRno-",
    "outputId": "a1fd335c-8f21-4fb3-8ea5-a178152ad9ce"
   },
   "outputs": [
    {
     "data": {
      "text/plain": [
       "house_area\n",
       "200.0    79\n",
       "150.0    65\n",
       "180.0    60\n",
       "160.0    59\n",
       "140.0    50\n",
       "         ..\n",
       "234.0     1\n",
       "382.0     1\n",
       "684.0     1\n",
       "323.0     1\n",
       "560.0     1\n",
       "Name: count, Length: 338, dtype: int64"
      ]
     },
     "execution_count": 83,
     "metadata": {},
     "output_type": "execute_result"
    }
   ],
   "source": [
    "# Lots of None values (8427 entries)\n",
    "\n",
    "df.house_area.value_counts()\n"
   ]
  },
  {
   "cell_type": "code",
   "execution_count": 84,
   "metadata": {
    "colab": {
     "base_uri": "https://localhost:8080/",
     "height": 34
    },
    "colab_type": "code",
    "id": "0vq5d8Vh7iK9",
    "outputId": "4bbc5aea-10c4-4731-9a53-2e69a07f24ce"
   },
   "outputs": [
    {
     "data": {
      "text/plain": [
       "(2154, 19)"
      ]
     },
     "execution_count": 84,
     "metadata": {},
     "output_type": "execute_result"
    },
    {
     "data": {
      "text/plain": [
       "dtype('int64')"
      ]
     },
     "execution_count": 84,
     "metadata": {},
     "output_type": "execute_result"
    }
   ],
   "source": [
    "# Remove the 'None' (str) entries\n",
    "\n",
    "df = df[(df['house_area'] != 'None')]\n",
    "\n",
    "# Convert the type to int\n",
    "\n",
    "df['house_area'] = df['house_area'].astype(int)\n",
    "\n",
    "# print_unique_dtype('subtype_of_property')\n",
    "\n",
    "df.shape\n",
    "df['house_area'].dtype"
   ]
  },
  {
   "cell_type": "code",
   "execution_count": 85,
   "metadata": {
    "colab": {
     "base_uri": "https://localhost:8080/",
     "height": 34
    },
    "colab_type": "code",
    "id": "T1IEzpDqZI0P",
    "outputId": "1d6a56a5-7605-4c25-8568-ac11ec766798"
   },
   "outputs": [
    {
     "data": {
      "text/plain": [
       "np.int64(3560)"
      ]
     },
     "execution_count": 85,
     "metadata": {},
     "output_type": "execute_result"
    }
   ],
   "source": [
    "# Delete the 1 and 31700 entries \n",
    "\n",
    "df = df[(df['house_area'] != 1) & (df['house_area'] != 31700)]\n",
    "df.house_area.max()\n"
   ]
  },
  {
   "cell_type": "code",
   "execution_count": 86,
   "metadata": {
    "colab": {
     "base_uri": "https://localhost:8080/",
     "height": 68
    },
    "colab_type": "code",
    "id": "Q8Iri2OrRqsu",
    "outputId": "23110334-20ca-40d1-bf1d-0ca8ae174b79"
   },
   "outputs": [
    {
     "data": {
      "text/plain": [
       "fully_equipped_kitchen\n",
       "1    1932\n",
       "0     222\n",
       "Name: count, dtype: int64"
      ]
     },
     "execution_count": 86,
     "metadata": {},
     "output_type": "execute_result"
    },
    {
     "data": {
      "text/plain": [
       "dtype('int64')"
      ]
     },
     "execution_count": 86,
     "metadata": {},
     "output_type": "execute_result"
    }
   ],
   "source": [
    "# fully_equiped_kitchen is clean\n",
    "\n",
    "df.fully_equipped_kitchen.value_counts() \n",
    "df.fully_equipped_kitchen.dtype"
   ]
  },
  {
   "cell_type": "code",
   "execution_count": 87,
   "metadata": {
    "colab": {
     "base_uri": "https://localhost:8080/",
     "height": 68
    },
    "colab_type": "code",
    "id": "lEbA8GUNV5Au",
    "outputId": "96d6a3e0-b0da-4112-a162-3facfff85e51"
   },
   "outputs": [
    {
     "data": {
      "text/plain": [
       "open_fire\n",
       "0    1810\n",
       "1     344\n",
       "Name: count, dtype: int64"
      ]
     },
     "execution_count": 87,
     "metadata": {},
     "output_type": "execute_result"
    },
    {
     "data": {
      "text/plain": [
       "dtype('int64')"
      ]
     },
     "execution_count": 87,
     "metadata": {},
     "output_type": "execute_result"
    }
   ],
   "source": [
    "# open_fire is clean\n",
    "\n",
    "df.open_fire.value_counts() \n",
    "df.open_fire.dtype"
   ]
  },
  {
   "cell_type": "code",
   "execution_count": 88,
   "metadata": {
    "colab": {
     "base_uri": "https://localhost:8080/",
     "height": 0
    },
    "colab_type": "code",
    "id": "tcKBOGUFV_gO",
    "outputId": "15e56bb0-455e-43f5-973d-b3e6b94761f5"
   },
   "outputs": [
    {
     "data": {
      "text/plain": [
       "terrace\n",
       "1    2154\n",
       "Name: count, dtype: int64"
      ]
     },
     "execution_count": 88,
     "metadata": {},
     "output_type": "execute_result"
    },
    {
     "data": {
      "text/plain": [
       "dtype('int64')"
      ]
     },
     "execution_count": 88,
     "metadata": {},
     "output_type": "execute_result"
    }
   ],
   "source": [
    "# terrace is clean\n",
    "\n",
    "df.terrace.value_counts()\n",
    "df.terrace.dtype"
   ]
  },
  {
   "cell_type": "code",
   "execution_count": 89,
   "metadata": {
    "colab": {},
    "colab_type": "code",
    "id": "wWvl9EwSWObQ"
   },
   "outputs": [],
   "source": [
    "#Finally the columns will be dropped\n",
    "\n",
    "df.drop(columns=['terrace_area'],inplace=True)\n"
   ]
  },
  {
   "cell_type": "code",
   "execution_count": 90,
   "metadata": {
    "colab": {
     "base_uri": "https://localhost:8080/",
     "height": 68
    },
    "colab_type": "code",
    "id": "QW3aunvsWau5",
    "outputId": "bebacc0f-0672-4970-d3fc-f0b2fb7e2afc"
   },
   "outputs": [
    {
     "data": {
      "text/plain": [
       "garden\n",
       "1    2154\n",
       "Name: count, dtype: int64"
      ]
     },
     "execution_count": 90,
     "metadata": {},
     "output_type": "execute_result"
    },
    {
     "data": {
      "text/plain": [
       "dtype('int64')"
      ]
     },
     "execution_count": 90,
     "metadata": {},
     "output_type": "execute_result"
    }
   ],
   "source": [
    "# garden is clean\n",
    "\n",
    "df.garden.value_counts()\n",
    "df.garden.dtype"
   ]
  },
  {
   "cell_type": "code",
   "execution_count": 91,
   "metadata": {
    "colab": {},
    "colab_type": "code",
    "id": "6K4ApLYPWfOd"
   },
   "outputs": [],
   "source": [
    "# df.garden_area.value_counts() \n",
    "\n",
    "df.drop(columns=['garden_area'],inplace=True)\n"
   ]
  },
  {
   "cell_type": "code",
   "execution_count": 92,
   "metadata": {
    "colab": {
     "base_uri": "https://localhost:8080/",
     "height": 221
    },
    "colab_type": "code",
    "id": "76Hi9BC0ZT_m",
    "outputId": "e247f9e5-245f-46f6-a008-284e40e37a37"
   },
   "outputs": [
    {
     "data": {
      "text/plain": [
       "surface_of_the_land\n",
       "None     349\n",
       "0.0       46\n",
       "300.0     18\n",
       "240.0     16\n",
       "150.0     14\n",
       "        ... \n",
       "327.0      1\n",
       "488.0      1\n",
       "471.0      1\n",
       "757.0      1\n",
       "453.0      1\n",
       "Name: count, Length: 914, dtype: int64"
      ]
     },
     "execution_count": 92,
     "metadata": {},
     "output_type": "execute_result"
    }
   ],
   "source": [
    "# Surface of the land has 20 000 None entries\n",
    "\n",
    "df.surface_of_the_land.value_counts()"
   ]
  },
  {
   "cell_type": "code",
   "execution_count": 93,
   "metadata": {
    "colab": {
     "base_uri": "https://localhost:8080/",
     "height": 221
    },
    "colab_type": "code",
    "id": "ZkFFjTRoZc0_",
    "outputId": "ad4bf4a7-5cf1-4b40-ca85-27eb8ebca831"
   },
   "outputs": [
    {
     "name": "stderr",
     "output_type": "stream",
     "text": [
      "C:\\Users\\zahid\\AppData\\Local\\Temp\\ipykernel_4712\\2475866844.py:3: FutureWarning: Downcasting behavior in `replace` is deprecated and will be removed in a future version. To retain the old behavior, explicitly call `result.infer_objects(copy=False)`. To opt-in to the future behavior, set `pd.set_option('future.no_silent_downcasting', True)`\n",
      "  df['surface_of_the_land'] = df['surface_of_the_land'].replace({\"None\":0}).astype(int)\n"
     ]
    },
    {
     "data": {
      "text/plain": [
       "surface_of_the_land\n",
       "0      395\n",
       "300     18\n",
       "240     16\n",
       "150     14\n",
       "200     14\n",
       "      ... \n",
       "327      1\n",
       "488      1\n",
       "471      1\n",
       "757      1\n",
       "453      1\n",
       "Name: count, Length: 913, dtype: int64"
      ]
     },
     "execution_count": 93,
     "metadata": {},
     "output_type": "execute_result"
    }
   ],
   "source": [
    "# Replace 'None' by 0\n",
    "\n",
    "df['surface_of_the_land'] = df['surface_of_the_land'].replace({\"None\":0}).astype(int)\n",
    "df.surface_of_the_land.value_counts()"
   ]
  },
  {
   "cell_type": "code",
   "execution_count": 94,
   "metadata": {
    "colab": {
     "base_uri": "https://localhost:8080/",
     "height": 119
    },
    "colab_type": "code",
    "id": "YwOMQnroZiyJ",
    "outputId": "aa0a0804-a7bc-4cd0-cd30-bef6799dc152"
   },
   "outputs": [
    {
     "data": {
      "text/plain": [
       "number_of_facades\n",
       "4.0    793\n",
       "2.0    778\n",
       "3.0    564\n",
       "1.0     19\n",
       "Name: count, dtype: int64"
      ]
     },
     "execution_count": 94,
     "metadata": {},
     "output_type": "execute_result"
    }
   ],
   "source": [
    "# Number of facades has a lot of None value.\n",
    "# Also, some house have only 1 facade.\n",
    "\n",
    "df.number_of_facades.value_counts()"
   ]
  },
  {
   "cell_type": "code",
   "execution_count": 95,
   "metadata": {
    "colab": {
     "base_uri": "https://localhost:8080/",
     "height": 102
    },
    "colab_type": "code",
    "id": "gSFUYWKDadGD",
    "outputId": "15bfda9b-7e26-41c6-fb03-737afccc1b65"
   },
   "outputs": [
    {
     "data": {
      "text/plain": [
       "number_of_facades\n",
       "4    793\n",
       "2    778\n",
       "3    564\n",
       "Name: count, dtype: int64"
      ]
     },
     "execution_count": 95,
     "metadata": {},
     "output_type": "execute_result"
    }
   ],
   "source": [
    "# Replace 'None' by 0\n",
    "\n",
    "df['number_of_facades'] = df['number_of_facades'].replace({\"None\": 0}).astype(int)\n",
    "\n",
    "# Drop the 1-facade houses.\n",
    "\n",
    "df = df[(df['number_of_facades'] != 1)]\n",
    "df.number_of_facades.value_counts()"
   ]
  },
  {
   "cell_type": "code",
   "execution_count": 96,
   "metadata": {
    "colab": {
     "base_uri": "https://localhost:8080/",
     "height": 0
    },
    "colab_type": "code",
    "id": "ox05UrA3ZnJ_",
    "outputId": "c981ee81-25a2-44b4-cb51-ce1c51ff3b13"
   },
   "outputs": [
    {
     "data": {
      "text/plain": [
       "swimming_pool\n",
       "0    2041\n",
       "1      94\n",
       "Name: count, dtype: int64"
      ]
     },
     "execution_count": 96,
     "metadata": {},
     "output_type": "execute_result"
    }
   ],
   "source": [
    "# Swimming pool data is clean\n",
    "\n",
    "df.swimming_pool.value_counts()"
   ]
  },
  {
   "cell_type": "code",
   "execution_count": 97,
   "metadata": {
    "colab": {
     "base_uri": "https://localhost:8080/",
     "height": 0
    },
    "colab_type": "code",
    "id": "WbxRNmJaZxbI",
    "outputId": "8478fb17-deb9-470d-f1d4-103178a37968"
   },
   "outputs": [
    {
     "data": {
      "text/plain": [
       "state_of_the_building\n",
       "as new            869\n",
       "good              764\n",
       "to be done up     199\n",
       "just renovated    184\n",
       "to renovate       116\n",
       "to restore          3\n",
       "Name: count, dtype: int64"
      ]
     },
     "execution_count": 97,
     "metadata": {},
     "output_type": "execute_result"
    }
   ],
   "source": [
    "# State of the building data has 'None'\n",
    "\n",
    "df.state_of_the_building.value_counts()"
   ]
  },
  {
   "cell_type": "code",
   "execution_count": 98,
   "metadata": {
    "colab": {
     "base_uri": "https://localhost:8080/",
     "height": 0
    },
    "colab_type": "code",
    "id": "5Iboyn_sQ0e-",
    "outputId": "4b80cbc8-be44-454e-d184-76e79d64c2c2"
   },
   "outputs": [
    {
     "data": {
      "text/plain": [
       "state_of_the_building\n",
       "as new            869\n",
       "good              764\n",
       "to be done up     199\n",
       "just renovated    184\n",
       "to renovate       116\n",
       "to restore          3\n",
       "Name: count, dtype: int64"
      ]
     },
     "execution_count": 98,
     "metadata": {},
     "output_type": "execute_result"
    }
   ],
   "source": [
    "# Replace 'None' by 'unknown'\n",
    "\n",
    "df['state_of_the_building'] = df['state_of_the_building'].replace({\"None\": \"unknown\"})\n",
    "df.state_of_the_building.value_counts()"
   ]
  },
  {
   "cell_type": "code",
   "execution_count": 99,
   "metadata": {
    "colab": {
     "base_uri": "https://localhost:8080/",
     "height": 221
    },
    "colab_type": "code",
    "id": "DLf5BDJLZ12G",
    "outputId": "fe5b660d-2830-4b87-8911-8bb053c8c341"
   },
   "outputs": [
    {
     "data": {
      "text/plain": [
       "construction_year\n",
       "2020.0    0.077752\n",
       "1930.0    0.042623\n",
       "2019.0    0.036534\n",
       "1950.0    0.033724\n",
       "2018.0    0.033255\n",
       "            ...   \n",
       "1873.0    0.000468\n",
       "1763.0    0.000468\n",
       "1755.0    0.000468\n",
       "1830.0    0.000468\n",
       "1903.0    0.000468\n",
       "Name: proportion, Length: 154, dtype: float64"
      ]
     },
     "execution_count": 99,
     "metadata": {},
     "output_type": "execute_result"
    }
   ],
   "source": [
    "df.construction_year.value_counts(normalize=True)"
   ]
  },
  {
   "cell_type": "code",
   "execution_count": 100,
   "metadata": {
    "colab": {},
    "colab_type": "code",
    "id": "ssb9DaHRamrR"
   },
   "outputs": [],
   "source": [
    "# drop construction year column\n",
    "\n",
    "df.drop(columns=['construction_year'],inplace=True)"
   ]
  },
  {
   "cell_type": "code",
   "execution_count": 101,
   "metadata": {
    "colab": {
     "base_uri": "https://localhost:8080/",
     "height": 54
    },
    "colab_type": "code",
    "id": "qZZ8A1vwI3PD",
    "outputId": "f3fc9122-e218-4e78-eccf-ae3cf8367f5c"
   },
   "outputs": [],
   "source": [
    "# This cell create a dictionnary of all postal codes, and their associated provinces and regions.\n",
    "\n",
    "provinces = {\n",
    "    'Bruxelles-Capitale': {\n",
    "        'range': [(1000, 1299)],\n",
    "        'region': 'Bruxelles'\n",
    "    },\n",
    "    'Brabant wallon': {\n",
    "        'range': [(1300, 1499)],\n",
    "        'region': 'Wallonie'\n",
    "    },\n",
    "    'Brabant flamand': {\n",
    "        'range': [(1500, 1999), (3000, 3499)],\n",
    "        'region': 'Flandre'\n",
    "    },\n",
    "    'Anvers': {\n",
    "        'range': [(2000, 2999)],\n",
    "        'region': 'Flandre'\n",
    "    },\n",
    "    'Limbourg': {\n",
    "        'range': [(3500, 3999)],\n",
    "        'region': 'Flandre'\n",
    "    },\n",
    "    'Liège': {\n",
    "        'range': [(4000, 4999)],\n",
    "        'region': 'Wallonie'\n",
    "    },\n",
    "    'Namur': {\n",
    "        'range': [(5000, 5999)],\n",
    "        'region': 'Wallonie'\n",
    "    },\n",
    "    'Hainaut': {\n",
    "        'range': [(6000, 6599), (7000, 7999)],\n",
    "        'region': 'Wallonie'\n",
    "    },\n",
    "    'Luxembourg': {\n",
    "        'range': [(6600, 6999)],\n",
    "        'region': 'Wallonie'\n",
    "    },\n",
    "    'Flandre-Occidentale': {\n",
    "        'range': [(8000, 8999)],\n",
    "        'region': 'Flandre'\n",
    "    },\n",
    "    'Flandre-Orientale': {\n",
    "        'range': [(9000, 9999)],\n",
    "        'region': 'Flandre'\n",
    "    }\n",
    "}\n",
    "\n",
    "def convert_by_postal_code():\n",
    "  \"\"\"\n",
    "  Convert the 'provinces' dictionnary to a dictionnary of postal codes as key,\n",
    "  and its region and province as values.\n",
    "  \"\"\"\n",
    "  postal_dict = {}\n",
    "\n",
    "# Loop through each entry in the \"provinces\" dictionnary\n",
    "\n",
    "  for province, content in provinces.items():\n",
    "\n",
    "# Loop though each postal code\n",
    "\n",
    "    for postal_code_tuple in content['range']:\n",
    "      for code in range(postal_code_tuple[0], postal_code_tuple[1] + 1):\n",
    "\n",
    "# Append the province and region for each postal code.\n",
    " \n",
    "        postal_dict[code] = {'province': province, 'region': content['region']}\n",
    "\n",
    "  return postal_dict\n",
    "\n",
    "postal_dict = convert_by_postal_code()\n",
    "\n"
   ]
  },
  {
   "cell_type": "code",
   "execution_count": 102,
   "metadata": {
    "colab": {
     "base_uri": "https://localhost:8080/",
     "height": 549
    },
    "colab_type": "code",
    "id": "vmWHI0JlJgDP",
    "outputId": "d80041f6-ea43-4b21-e48a-2977042634e4"
   },
   "outputs": [
    {
     "data": {
      "text/html": [
       "<div>\n",
       "<style scoped>\n",
       "    .dataframe tbody tr th:only-of-type {\n",
       "        vertical-align: middle;\n",
       "    }\n",
       "\n",
       "    .dataframe tbody tr th {\n",
       "        vertical-align: top;\n",
       "    }\n",
       "\n",
       "    .dataframe thead th {\n",
       "        text-align: right;\n",
       "    }\n",
       "</style>\n",
       "<table border=\"1\" class=\"dataframe\">\n",
       "  <thead>\n",
       "    <tr style=\"text-align: right;\">\n",
       "      <th></th>\n",
       "      <th>postal_code</th>\n",
       "      <th>city_name</th>\n",
       "      <th>type_of_property</th>\n",
       "      <th>price</th>\n",
       "      <th>number_of_rooms</th>\n",
       "      <th>house_area</th>\n",
       "      <th>fully_equipped_kitchen</th>\n",
       "      <th>open_fire</th>\n",
       "      <th>terrace</th>\n",
       "      <th>garden</th>\n",
       "      <th>surface_of_the_land</th>\n",
       "      <th>number_of_facades</th>\n",
       "      <th>swimming_pool</th>\n",
       "      <th>state_of_the_building</th>\n",
       "      <th>lattitude</th>\n",
       "      <th>longitude</th>\n",
       "      <th>province</th>\n",
       "      <th>region</th>\n",
       "    </tr>\n",
       "  </thead>\n",
       "  <tbody>\n",
       "    <tr>\n",
       "      <th>1</th>\n",
       "      <td>1880</td>\n",
       "      <td>Nieuwenrode</td>\n",
       "      <td>0</td>\n",
       "      <td>525000</td>\n",
       "      <td>6</td>\n",
       "      <td>250</td>\n",
       "      <td>1</td>\n",
       "      <td>0</td>\n",
       "      <td>1</td>\n",
       "      <td>1</td>\n",
       "      <td>826</td>\n",
       "      <td>4</td>\n",
       "      <td>0</td>\n",
       "      <td>as new</td>\n",
       "      <td>4.351229</td>\n",
       "      <td>50.979984</td>\n",
       "      <td>Brabant flamand</td>\n",
       "      <td>Flandre</td>\n",
       "    </tr>\n",
       "    <tr>\n",
       "      <th>3</th>\n",
       "      <td>7912</td>\n",
       "      <td>Saint-Sauveur</td>\n",
       "      <td>0</td>\n",
       "      <td>550000</td>\n",
       "      <td>4</td>\n",
       "      <td>325</td>\n",
       "      <td>1</td>\n",
       "      <td>0</td>\n",
       "      <td>1</td>\n",
       "      <td>1</td>\n",
       "      <td>3570</td>\n",
       "      <td>4</td>\n",
       "      <td>0</td>\n",
       "      <td>good</td>\n",
       "      <td>3.597746</td>\n",
       "      <td>50.706180</td>\n",
       "      <td>Hainaut</td>\n",
       "      <td>Wallonie</td>\n",
       "    </tr>\n",
       "    <tr>\n",
       "      <th>4</th>\n",
       "      <td>6032</td>\n",
       "      <td>Mont-Sur-Marchienne</td>\n",
       "      <td>0</td>\n",
       "      <td>550000</td>\n",
       "      <td>5</td>\n",
       "      <td>400</td>\n",
       "      <td>1</td>\n",
       "      <td>0</td>\n",
       "      <td>1</td>\n",
       "      <td>1</td>\n",
       "      <td>616</td>\n",
       "      <td>3</td>\n",
       "      <td>0</td>\n",
       "      <td>as new</td>\n",
       "      <td>4.404636</td>\n",
       "      <td>50.390205</td>\n",
       "      <td>Hainaut</td>\n",
       "      <td>Wallonie</td>\n",
       "    </tr>\n",
       "    <tr>\n",
       "      <th>6</th>\n",
       "      <td>1325</td>\n",
       "      <td>Bonlez</td>\n",
       "      <td>0</td>\n",
       "      <td>535000</td>\n",
       "      <td>6</td>\n",
       "      <td>303</td>\n",
       "      <td>1</td>\n",
       "      <td>0</td>\n",
       "      <td>1</td>\n",
       "      <td>1</td>\n",
       "      <td>810</td>\n",
       "      <td>4</td>\n",
       "      <td>0</td>\n",
       "      <td>as new</td>\n",
       "      <td>4.689615</td>\n",
       "      <td>50.702137</td>\n",
       "      <td>Brabant wallon</td>\n",
       "      <td>Wallonie</td>\n",
       "    </tr>\n",
       "    <tr>\n",
       "      <th>10</th>\n",
       "      <td>8380</td>\n",
       "      <td>Lissewege</td>\n",
       "      <td>0</td>\n",
       "      <td>545000</td>\n",
       "      <td>5</td>\n",
       "      <td>176</td>\n",
       "      <td>1</td>\n",
       "      <td>0</td>\n",
       "      <td>1</td>\n",
       "      <td>1</td>\n",
       "      <td>712</td>\n",
       "      <td>3</td>\n",
       "      <td>0</td>\n",
       "      <td>good</td>\n",
       "      <td>3.199182</td>\n",
       "      <td>51.317114</td>\n",
       "      <td>Flandre-Occidentale</td>\n",
       "      <td>Flandre</td>\n",
       "    </tr>\n",
       "    <tr>\n",
       "      <th>13</th>\n",
       "      <td>6730</td>\n",
       "      <td>Tintigny</td>\n",
       "      <td>0</td>\n",
       "      <td>520000</td>\n",
       "      <td>5</td>\n",
       "      <td>350</td>\n",
       "      <td>1</td>\n",
       "      <td>1</td>\n",
       "      <td>1</td>\n",
       "      <td>1</td>\n",
       "      <td>1150</td>\n",
       "      <td>4</td>\n",
       "      <td>0</td>\n",
       "      <td>as new</td>\n",
       "      <td>5.518515</td>\n",
       "      <td>49.682099</td>\n",
       "      <td>Luxembourg</td>\n",
       "      <td>Wallonie</td>\n",
       "    </tr>\n",
       "    <tr>\n",
       "      <th>14</th>\n",
       "      <td>8000</td>\n",
       "      <td>Brugge</td>\n",
       "      <td>0</td>\n",
       "      <td>545000</td>\n",
       "      <td>5</td>\n",
       "      <td>176</td>\n",
       "      <td>1</td>\n",
       "      <td>0</td>\n",
       "      <td>1</td>\n",
       "      <td>1</td>\n",
       "      <td>712</td>\n",
       "      <td>3</td>\n",
       "      <td>0</td>\n",
       "      <td>good</td>\n",
       "      <td>3.207361</td>\n",
       "      <td>51.214708</td>\n",
       "      <td>Flandre-Occidentale</td>\n",
       "      <td>Flandre</td>\n",
       "    </tr>\n",
       "    <tr>\n",
       "      <th>15</th>\n",
       "      <td>4052</td>\n",
       "      <td>Beaufays</td>\n",
       "      <td>0</td>\n",
       "      <td>250000</td>\n",
       "      <td>5</td>\n",
       "      <td>200</td>\n",
       "      <td>1</td>\n",
       "      <td>1</td>\n",
       "      <td>1</td>\n",
       "      <td>1</td>\n",
       "      <td>1660</td>\n",
       "      <td>4</td>\n",
       "      <td>0</td>\n",
       "      <td>good</td>\n",
       "      <td>5.638776</td>\n",
       "      <td>50.558963</td>\n",
       "      <td>Liège</td>\n",
       "      <td>Wallonie</td>\n",
       "    </tr>\n",
       "    <tr>\n",
       "      <th>17</th>\n",
       "      <td>1330</td>\n",
       "      <td>Rixensart</td>\n",
       "      <td>0</td>\n",
       "      <td>525000</td>\n",
       "      <td>5</td>\n",
       "      <td>291</td>\n",
       "      <td>1</td>\n",
       "      <td>0</td>\n",
       "      <td>1</td>\n",
       "      <td>1</td>\n",
       "      <td>740</td>\n",
       "      <td>4</td>\n",
       "      <td>0</td>\n",
       "      <td>to be done up</td>\n",
       "      <td>4.527290</td>\n",
       "      <td>50.713355</td>\n",
       "      <td>Brabant wallon</td>\n",
       "      <td>Wallonie</td>\n",
       "    </tr>\n",
       "    <tr>\n",
       "      <th>18</th>\n",
       "      <td>7850</td>\n",
       "      <td>Enghien</td>\n",
       "      <td>0</td>\n",
       "      <td>550000</td>\n",
       "      <td>4</td>\n",
       "      <td>276</td>\n",
       "      <td>1</td>\n",
       "      <td>0</td>\n",
       "      <td>1</td>\n",
       "      <td>1</td>\n",
       "      <td>1182</td>\n",
       "      <td>4</td>\n",
       "      <td>0</td>\n",
       "      <td>as new</td>\n",
       "      <td>4.040691</td>\n",
       "      <td>50.692755</td>\n",
       "      <td>Hainaut</td>\n",
       "      <td>Wallonie</td>\n",
       "    </tr>\n",
       "  </tbody>\n",
       "</table>\n",
       "</div>"
      ],
      "text/plain": [
       "    postal_code            city_name  type_of_property   price  \\\n",
       "1          1880          Nieuwenrode                 0  525000   \n",
       "3          7912        Saint-Sauveur                 0  550000   \n",
       "4          6032  Mont-Sur-Marchienne                 0  550000   \n",
       "6          1325               Bonlez                 0  535000   \n",
       "10         8380            Lissewege                 0  545000   \n",
       "13         6730             Tintigny                 0  520000   \n",
       "14         8000               Brugge                 0  545000   \n",
       "15         4052             Beaufays                 0  250000   \n",
       "17         1330            Rixensart                 0  525000   \n",
       "18         7850              Enghien                 0  550000   \n",
       "\n",
       "    number_of_rooms  house_area  fully_equipped_kitchen  open_fire  terrace  \\\n",
       "1                 6         250                       1          0        1   \n",
       "3                 4         325                       1          0        1   \n",
       "4                 5         400                       1          0        1   \n",
       "6                 6         303                       1          0        1   \n",
       "10                5         176                       1          0        1   \n",
       "13                5         350                       1          1        1   \n",
       "14                5         176                       1          0        1   \n",
       "15                5         200                       1          1        1   \n",
       "17                5         291                       1          0        1   \n",
       "18                4         276                       1          0        1   \n",
       "\n",
       "    garden  surface_of_the_land  number_of_facades  swimming_pool  \\\n",
       "1        1                  826                  4              0   \n",
       "3        1                 3570                  4              0   \n",
       "4        1                  616                  3              0   \n",
       "6        1                  810                  4              0   \n",
       "10       1                  712                  3              0   \n",
       "13       1                 1150                  4              0   \n",
       "14       1                  712                  3              0   \n",
       "15       1                 1660                  4              0   \n",
       "17       1                  740                  4              0   \n",
       "18       1                 1182                  4              0   \n",
       "\n",
       "   state_of_the_building  lattitude  longitude             province    region  \n",
       "1                 as new   4.351229  50.979984      Brabant flamand   Flandre  \n",
       "3                   good   3.597746  50.706180              Hainaut  Wallonie  \n",
       "4                 as new   4.404636  50.390205              Hainaut  Wallonie  \n",
       "6                 as new   4.689615  50.702137       Brabant wallon  Wallonie  \n",
       "10                  good   3.199182  51.317114  Flandre-Occidentale   Flandre  \n",
       "13                as new   5.518515  49.682099           Luxembourg  Wallonie  \n",
       "14                  good   3.207361  51.214708  Flandre-Occidentale   Flandre  \n",
       "15                  good   5.638776  50.558963                Liège  Wallonie  \n",
       "17         to be done up   4.527290  50.713355       Brabant wallon  Wallonie  \n",
       "18                as new   4.040691  50.692755              Hainaut  Wallonie  "
      ]
     },
     "execution_count": 102,
     "metadata": {},
     "output_type": "execute_result"
    }
   ],
   "source": [
    "def add_province(postal_code):\n",
    "  \"\"\"Return the province associated with a given locality.\"\"\"\n",
    "  return postal_dict[postal_code]['province']\n",
    "\n",
    "def add_region(postal_code):\n",
    "  return postal_dict[postal_code]['region']\n",
    "\n",
    "provinces_regions = df['postal_code'].apply(lambda postal_code: pd.Series({\n",
    "    'province': add_province(postal_code),\n",
    "    'region': add_region(postal_code)\n",
    "    }))\n",
    "\n",
    "df = pd.concat([df, provinces_regions], axis=1)\n",
    "df.head(10)"
   ]
  }
 ],
 "metadata": {
  "colab": {
   "collapsed_sections": [
    "-VKRcxP2V8H-",
    "BugfLt_BZjSh",
    "SjDhwO86ZmTm",
    "ZeBIMQIJE4x5"
   ],
   "include_colab_link": true,
   "name": "challenge-data-analysis_cleaning.ipynb",
   "provenance": [],
   "toc_visible": true
  },
  "kernelspec": {
   "display_name": "Python 3",
   "language": "python",
   "name": "python3"
  },
  "language_info": {
   "codemirror_mode": {
    "name": "ipython",
    "version": 3
   },
   "file_extension": ".py",
   "mimetype": "text/x-python",
   "name": "python",
   "nbconvert_exporter": "python",
   "pygments_lexer": "ipython3",
   "version": "3.12.3"
  }
 },
 "nbformat": 4,
 "nbformat_minor": 4
}
